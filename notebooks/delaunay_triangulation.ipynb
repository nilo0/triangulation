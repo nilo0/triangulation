{
 "cells": [
  {
   "cell_type": "markdown",
   "metadata": {},
   "source": [
    "# Delaunay Triangulation"
   ]
  },
  {
   "cell_type": "code",
   "execution_count": null,
   "metadata": {},
   "outputs": [],
   "source": [
    "from triangulation.main import Triangulation\n",
    "\n",
    "T = Triangulation(7, testing=True)\n",
    "leaves = T.Delaunay()"
   ]
  },
  {
   "cell_type": "code",
   "execution_count": null,
   "metadata": {},
   "outputs": [],
   "source": [
    "import plotly\n",
    "print('plotly version: ', plotly.__version__, ' (must be > 3.6)')\n",
    "import plotly.graph_objects as go\n",
    "from plotly.subplots import make_subplots\n",
    "import plotly.express as px\n",
    "import plotly.io as pio\n",
    "import plotly.figure_factory as ff\n",
    "pio.templates.default = \"plotly_white\"\n",
    "colors = px.colors.sequential.Agsunset\n",
    "named_colorscales = px.colors.named_colorscales()\n",
    "black_cs = [[0.0, 'black'], [1.0, 'black']]"
   ]
  },
  {
   "cell_type": "code",
   "execution_count": null,
   "metadata": {
    "scrolled": false
   },
   "outputs": [],
   "source": [
    "fig = go.Figure()\n",
    "\n",
    "x = [p['lon'] for p in T.P]\n",
    "y = [p['lat'] for p in T.P]\n",
    "\n",
    "fig.add_trace(go.Scatter(x=x, y=y, mode='markers'))\n",
    "    \n",
    "fig.update_layout(\n",
    "    xaxis=dict(title='X'),\n",
    "    yaxis=dict(title='Y')\n",
    ")\n",
    "\n",
    "fig.show()"
   ]
  },
  {
   "cell_type": "code",
   "execution_count": null,
   "metadata": {},
   "outputs": [],
   "source": [
    "fig = go.Figure()\n",
    "\n",
    "x = [p['lon'] for p in T.P]\n",
    "y = [p['lat'] for p in T.P]\n",
    "\n",
    "for leaf in leaves:\n",
    "    for i in [-1, 0, 1]:\n",
    "        x = [T.P[leaf['vtx_ids'][i]]['lon'], T.P[leaf['vtx_ids'][i+1]]['lon']]\n",
    "        y = [T.P[leaf['vtx_ids'][i]]['lat'], T.P[leaf['vtx_ids'][i+1]]['lat']]\n",
    "        fig.add_trace(go.Scatter(x=x, y=y, mode='lines', line=dict(color='black')))\n",
    "    \n",
    "fig.update_layout(\n",
    "    xaxis=dict(title='X'),\n",
    "    yaxis=dict(title='Y')\n",
    ")\n",
    "\n",
    "fig.show()"
   ]
  }
 ],
 "metadata": {
  "kernelspec": {
   "display_name": "Python 3",
   "language": "python",
   "name": "python3"
  },
  "language_info": {
   "codemirror_mode": {
    "name": "ipython",
    "version": 3
   },
   "file_extension": ".py",
   "mimetype": "text/x-python",
   "name": "python",
   "nbconvert_exporter": "python",
   "pygments_lexer": "ipython3",
   "version": "3.7.7"
  }
 },
 "nbformat": 4,
 "nbformat_minor": 2
}
